{
 "cells": [
  {
   "cell_type": "code",
   "execution_count": 2,
   "metadata": {
    "colab": {
     "base_uri": "https://localhost:8080/",
     "height": 68
    },
    "colab_type": "code",
    "id": "babXoXe34rlk",
    "outputId": "1666b157-4199-41f0-ad39-7d1a2b416352"
   },
   "outputs": [
    {
     "name": "stdout",
     "output_type": "stream",
     "text": [
      "  % Total    % Received % Xferd  Average Speed   Time    Time     Time  Current\n",
      "                                 Dload  Upload   Total   Spent    Left  Speed\n",
      "100  822M  100  822M    0     0  2159k      0  0:06:29  0:06:29 --:--:-- 2386k\n"
     ]
    }
   ],
   "source": [
    "!curl http://downloads.cs.stanford.edu/nlp/data/glove.6B.zip --output glove.zip"
   ]
  },
  {
   "cell_type": "code",
   "execution_count": 3,
   "metadata": {
    "colab": {
     "base_uri": "https://localhost:8080/",
     "height": 102
    },
    "colab_type": "code",
    "id": "vV0VctCSZWVh",
    "outputId": "be3653a7-d6aa-40ef-e1a0-122bd185f87b"
   },
   "outputs": [
    {
     "name": "stdout",
     "output_type": "stream",
     "text": [
      "Archive:  glove.zip\n",
      "  inflating: glove_data/glove.6B.50d.txt  \n",
      "  inflating: glove_data/glove.6B.100d.txt  \n",
      "  inflating: glove_data/glove.6B.200d.txt  \n",
      "  inflating: glove_data/glove.6B.300d.txt  \n"
     ]
    }
   ],
   "source": [
    "!unzip glove.zip -d glove_data"
   ]
  },
  {
   "cell_type": "markdown",
   "metadata": {
    "colab_type": "text",
    "id": "achWMVPSdNkn"
   },
   "source": [
    "### Word2Vec Embedding"
   ]
  },
  {
   "cell_type": "code",
   "execution_count": 7,
   "metadata": {
    "colab": {
     "base_uri": "https://localhost:8080/",
     "height": 34
    },
    "colab_type": "code",
    "id": "t5OgoLk9dwKs",
    "outputId": "30679ed4-a7a3-4258-e783-b5df8b4db2c9"
   },
   "outputs": [
    {
     "data": {
      "text/plain": [
       "[('mother', 0.8462507724761963)]"
      ]
     },
     "execution_count": 7,
     "metadata": {
      "tags": []
     },
     "output_type": "execute_result"
    }
   ],
   "source": [
    "import warnings\n",
    "warnings.filterwarnings(\"ignore\")\n",
    "from gensim.models import KeyedVectors\n",
    "filename = '/content/drive/My Drive/Colab Data/NLP/GoogleNews-vectors-negative300.bin'\n",
    "model = KeyedVectors.load_word2vec_format(filename, binary=True)\n",
    "\n",
    "## Test Model with the combination ( father - man ) + woman\n",
    "result = model.most_similar(positive=['woman', 'father'], negative=['man'], topn=1)\n",
    "result"
   ]
  },
  {
   "cell_type": "markdown",
   "metadata": {
    "colab_type": "text",
    "id": "1TCtawC-ariT"
   },
   "source": [
    "### Glove Embedding"
   ]
  },
  {
   "cell_type": "code",
   "execution_count": 8,
   "metadata": {
    "colab": {
     "base_uri": "https://localhost:8080/",
     "height": 34
    },
    "colab_type": "code",
    "id": "UNJrhKS-G8Rz",
    "outputId": "f3ab1070-85a0-4fa8-db72-50b10e44f677"
   },
   "outputs": [
    {
     "data": {
      "text/plain": [
       "(400000, 100)"
      ]
     },
     "execution_count": 8,
     "metadata": {
      "tags": []
     },
     "output_type": "execute_result"
    }
   ],
   "source": [
    "from gensim.scripts.glove2word2vec import glove2word2vec\n",
    "glove_input_file = 'glove_data/glove.6B.100d.txt'\n",
    "word2vec_output_file = 'glove.6B.100d.txt.word2vec'\n",
    "glove2word2vec(glove_input_file, word2vec_output_file)"
   ]
  },
  {
   "cell_type": "code",
   "execution_count": 9,
   "metadata": {
    "colab": {
     "base_uri": "https://localhost:8080/",
     "height": 34
    },
    "colab_type": "code",
    "id": "4nV2N6WxIU4v",
    "outputId": "9d88e344-e05a-4528-cf97-832c58d84141"
   },
   "outputs": [
    {
     "data": {
      "text/plain": [
       "[('princess', 0.7514395117759705)]"
      ]
     },
     "execution_count": 9,
     "metadata": {
      "tags": []
     },
     "output_type": "execute_result"
    }
   ],
   "source": [
    "from gensim.models import KeyedVectors\n",
    "filename = 'glove.6B.100d.txt.word2vec'\n",
    "model = KeyedVectors.load_word2vec_format(filename, binary=False)\n",
    "\n",
    "## Test Model with the combination ( prince - man ) + woman\n",
    "result = model.most_similar(positive=['woman', 'prince'], negative=['man'], topn=1)\n",
    "result"
   ]
  }
 ],
 "metadata": {
  "colab": {
   "collapsed_sections": [],
   "machine_shape": "hm",
   "name": "word_embedding_tensorflow.ipynb",
   "provenance": [],
   "toc_visible": true
  },
  "kernelspec": {
   "display_name": "Python 3",
   "language": "python",
   "name": "python3"
  },
  "language_info": {
   "codemirror_mode": {
    "name": "ipython",
    "version": 3
   },
   "file_extension": ".py",
   "mimetype": "text/x-python",
   "name": "python",
   "nbconvert_exporter": "python",
   "pygments_lexer": "ipython3",
   "version": "3.7.4"
  }
 },
 "nbformat": 4,
 "nbformat_minor": 1
}
