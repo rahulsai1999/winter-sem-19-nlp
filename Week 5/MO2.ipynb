{
 "cells": [
  {
   "cell_type": "code",
   "execution_count": 1,
   "metadata": {},
   "outputs": [],
   "source": [
    "# importing libraries\n",
    "\n",
    "from nltk.corpus import stopwords \n",
    "from nltk.tokenize import word_tokenize \n",
    "from nltk.corpus import inaugural"
   ]
  },
  {
   "cell_type": "markdown",
   "metadata": {},
   "source": [
    "### Importing Data\n",
    "\n",
    "The data being used is the Inaugural Corpus, specifically the inaugural speeches of Obama (2009) and Trump (2017). The choice for this dataset was the possibility of getting similar words concerning national affairs."
   ]
  },
  {
   "cell_type": "code",
   "execution_count": 2,
   "metadata": {},
   "outputs": [],
   "source": [
    "obama = inaugural.words(fileids='2009-Obama.txt')\n",
    "trump = inaugural.words(fileids='2017-Trump.txt')\n",
    "\n",
    "X =\" \".join(obama)\n",
    "Y =\" \".join(trump)\n",
    "\n",
    "X = X.lower()\n",
    "Y = Y.lower()"
   ]
  },
  {
   "cell_type": "markdown",
   "metadata": {},
   "source": [
    "### Calculate Cosine Similarity\n",
    "\n",
    "The method defined below performs the following functions: \n",
    "- Tokenise the words\n",
    "- Remove stopwords\n",
    "- Remove duplicate words\n",
    "- Vectorise the words\n",
    "- Calculate the Cosine Similarity"
   ]
  },
  {
   "cell_type": "code",
   "execution_count": 3,
   "metadata": {},
   "outputs": [],
   "source": [
    "def processWords(X,Y): \n",
    "    X_list = word_tokenize(X)  \n",
    "    Y_list = word_tokenize(Y)\n",
    "     \n",
    "    sw = stopwords.words('english')  \n",
    "    l1 =[]; l2 =[]\n",
    "    \n",
    "    # removing stop words\n",
    "    X_set = {w for w in X_list if not w in sw}  \n",
    "    Y_set = {w for w in Y_list if not w in sw} \n",
    "\n",
    "    # removing duplicate words\n",
    "    rvector = X_set.union(Y_set)  \n",
    "    \n",
    "    # Vectorise\n",
    "    for w in rvector: \n",
    "        if w in X_set: l1.append(1)\n",
    "        else: l1.append(0) \n",
    "        if w in Y_set: l2.append(1) \n",
    "        else: l2.append(0)\n",
    "    c = 0\n",
    "    \n",
    "    # cosine formula  \n",
    "    for i in range(len(rvector)): \n",
    "            c+= l1[i]*l2[i] \n",
    "    cosine = c / float((sum(l1)*sum(l2))**0.5) \n",
    "    print(\"similarity: \", cosine)"
   ]
  },
  {
   "cell_type": "code",
   "execution_count": 4,
   "metadata": {},
   "outputs": [
    {
     "name": "stdout",
     "output_type": "stream",
     "text": [
      "similarity:  0.279620880680984\n"
     ]
    }
   ],
   "source": [
    "processWords(X,Y)"
   ]
  },
  {
   "cell_type": "markdown",
   "metadata": {},
   "source": [
    "### Stemming Method\n",
    "\n",
    "The stemming method splits the given string, and applies the Lancaster Stemmer to each word of the string."
   ]
  },
  {
   "cell_type": "code",
   "execution_count": 5,
   "metadata": {},
   "outputs": [],
   "source": [
    "def stemmingProc(X,Y):\n",
    "    from nltk.stem import LancasterStemmer\n",
    "    lanc=LancasterStemmer()\n",
    "    X_ans=\"\"\n",
    "    Y_ans=\"\"\n",
    "    for i in X.split(\" \"):\n",
    "        X_ans+=lanc.stem(i)+\" \"\n",
    "    for i in Y.split(\" \"):\n",
    "        Y_ans+=lanc.stem(i)+\" \"\n",
    "    return X_ans,Y_ans"
   ]
  },
  {
   "cell_type": "code",
   "execution_count": 6,
   "metadata": {},
   "outputs": [],
   "source": [
    "X_ans,Y_ans=stemmingProc(X,Y)"
   ]
  },
  {
   "cell_type": "code",
   "execution_count": 7,
   "metadata": {},
   "outputs": [
    {
     "name": "stdout",
     "output_type": "stream",
     "text": [
      "similarity:  0.38593973808344356\n"
     ]
    }
   ],
   "source": [
    "processWords(X_ans,Y_ans)"
   ]
  },
  {
   "cell_type": "markdown",
   "metadata": {},
   "source": [
    "## Inference\n",
    "\n",
    "The cosine similarity of the documents **increase** when the stemming algorithm is applied before calculating the cosine similarity.\n",
    "\n",
    "- Similarity before stemming  : 0.2796\n",
    "- Similarity after stemming   : 0.3859"
   ]
  }
 ],
 "metadata": {
  "kernelspec": {
   "display_name": "Python 3",
   "language": "python",
   "name": "python3"
  },
  "language_info": {
   "codemirror_mode": {
    "name": "ipython",
    "version": 3
   },
   "file_extension": ".py",
   "mimetype": "text/x-python",
   "name": "python",
   "nbconvert_exporter": "python",
   "pygments_lexer": "ipython3",
   "version": "3.7.4"
  }
 },
 "nbformat": 4,
 "nbformat_minor": 2
}
