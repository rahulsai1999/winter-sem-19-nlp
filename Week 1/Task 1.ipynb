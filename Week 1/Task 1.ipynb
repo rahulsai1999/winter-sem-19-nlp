{
 "cells": [
  {
   "cell_type": "code",
   "execution_count": 1,
   "metadata": {},
   "outputs": [
    {
     "name": "stdout",
     "output_type": "stream",
     "text": [
      "['Shakespeare', \"didn't\", 'gave', 'the', 'world', 'best', 'of', 'theatrics']\n"
     ]
    }
   ],
   "source": [
    "# Task 1 -- String examples\n",
    "\n",
    "x = \"Shakespeare didn't gave the world best of theatrics\"\n",
    "strArr = x.split(\" \")\n",
    "print(strArr)"
   ]
  },
  {
   "cell_type": "code",
   "execution_count": 2,
   "metadata": {},
   "outputs": [
    {
     "name": "stdout",
     "output_type": "stream",
     "text": [
      "['William', 'Shakespeare', 'was', 'an', 'English', 'poet,', 'playwright,', 'and', 'actor,', 'widely', 'regarded', 'as', 'the', 'greatest', 'writer', 'in', 'the', 'English', 'language', 'and', 'the', \"world's\", 'greatest', 'dramatist.', '\\nHe', 'is', 'often', 'called', \"England's\", 'national', 'poet', 'and', 'the', \"'Bard\", 'of', \"Avon'\", '(or', 'simply', \"'the\", \"Bard').\", 'His', 'extant', 'works,', 'including', 'collaborations,', 'consist', 'of', 'some', '39', 'plays,', '154', 'sonnets,', '\\ntwo', 'long', 'narrative', 'poems,', 'and', 'a', 'few', 'other', 'verses,', 'some', 'of', 'uncertain', 'authorship.', 'His', 'plays', 'have', 'been', 'translated', 'into', 'every', 'major', 'living', 'language', 'and', 'are', 'performed', 'more', 'often', 'than', '\\nthose', 'of', 'any', 'other', 'playwright.']\n"
     ]
    }
   ],
   "source": [
    "## Multiline-Strings\n",
    "\n",
    "y = '''William Shakespeare was an English poet, playwright, and actor, widely regarded as the greatest writer in the English language and the world's greatest dramatist. \n",
    "He is often called England's national poet and the 'Bard of Avon' (or simply 'the Bard'). His extant works, including collaborations, consist of some 39 plays, 154 sonnets, \n",
    "two long narrative poems, and a few other verses, some of uncertain authorship. His plays have been translated into every major living language and are performed more often than \n",
    "those of any other playwright.'''\n",
    "strArr = y.split(\" \")\n",
    "print(strArr)"
   ]
  }
 ],
 "metadata": {
  "kernelspec": {
   "display_name": "Python 3",
   "language": "python",
   "name": "python3"
  },
  "language_info": {
   "codemirror_mode": {
    "name": "ipython",
    "version": 3
   },
   "file_extension": ".py",
   "mimetype": "text/x-python",
   "name": "python",
   "nbconvert_exporter": "python",
   "pygments_lexer": "ipython3",
   "version": "3.7.4"
  }
 },
 "nbformat": 4,
 "nbformat_minor": 2
}
