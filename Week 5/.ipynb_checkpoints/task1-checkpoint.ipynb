{
 "cells": [
  {
   "cell_type": "code",
   "execution_count": 25,
   "metadata": {},
   "outputs": [],
   "source": [
    "# 10-01-20 \n",
    "\n",
    "# Importing the lexical resources\n",
    "\n",
    "import nltk\n",
    "from nltk.stem import PorterStemmer,LancasterStemmer,SnowballStemmer\n",
    "from nltk.corpus import stopwords,cmudict, wordnet"
   ]
  },
  {
   "cell_type": "code",
   "execution_count": 14,
   "metadata": {},
   "outputs": [
    {
     "data": {
      "text/plain": [
       "['i', 'me', 'my', 'myself', 'we', 'our', 'ours', 'ourselves', 'you', \"you're\"]"
      ]
     },
     "execution_count": 14,
     "metadata": {},
     "output_type": "execute_result"
    }
   ],
   "source": [
    "# list of stopwords\n",
    "stopwords.words('english')[:10]"
   ]
  },
  {
   "cell_type": "code",
   "execution_count": 15,
   "metadata": {},
   "outputs": [
    {
     "data": {
      "text/plain": [
       "['de', 'la', 'que', 'el', 'en', 'y', 'a', 'los', 'del', 'se']"
      ]
     },
     "execution_count": 15,
     "metadata": {},
     "output_type": "execute_result"
    }
   ],
   "source": [
    "stopwords.words('spanish')[:10]"
   ]
  },
  {
   "cell_type": "code",
   "execution_count": 17,
   "metadata": {},
   "outputs": [
    {
     "name": "stdout",
     "output_type": "stream",
     "text": [
      "133737\n"
     ]
    },
    {
     "data": {
      "text/plain": [
       "[('belford', ['B', 'EH1', 'L', 'F', 'ER0', 'D']),\n",
       " ('belfry', ['B', 'EH1', 'L', 'F', 'R', 'IY0']),\n",
       " ('belgacom', ['B', 'EH1', 'L', 'G', 'AH0', 'K', 'AA0', 'M']),\n",
       " ('belgacom', ['B', 'EH1', 'L', 'JH', 'AH0', 'K', 'AA0', 'M']),\n",
       " ('belgard', ['B', 'EH0', 'L', 'G', 'AA1', 'R', 'D']),\n",
       " ('belgarde', ['B', 'EH0', 'L', 'G', 'AA1', 'R', 'D', 'IY0']),\n",
       " ('belge', ['B', 'EH1', 'L', 'JH', 'IY0']),\n",
       " ('belger', ['B', 'EH1', 'L', 'G', 'ER0']),\n",
       " ('belgian', ['B', 'EH1', 'L', 'JH', 'AH0', 'N']),\n",
       " ('belgians', ['B', 'EH1', 'L', 'JH', 'AH0', 'N', 'Z']),\n",
       " ('belgique', ['B', 'EH0', 'L', 'ZH', 'IY1', 'K']),\n",
       " (\"belgique's\", ['B', 'EH0', 'L', 'JH', 'IY1', 'K', 'S']),\n",
       " ('belgium', ['B', 'EH1', 'L', 'JH', 'AH0', 'M']),\n",
       " (\"belgium's\", ['B', 'EH1', 'L', 'JH', 'AH0', 'M', 'Z']),\n",
       " ('belgo', ['B', 'EH1', 'L', 'G', 'OW2'])]"
      ]
     },
     "execution_count": 17,
     "metadata": {},
     "output_type": "execute_result"
    }
   ],
   "source": [
    "# cmudict wordlist\n",
    "entries=cmudict.entries()\n",
    "print(len(entries))\n",
    "entries[10000:10015]"
   ]
  },
  {
   "cell_type": "code",
   "execution_count": 19,
   "metadata": {},
   "outputs": [
    {
     "data": {
      "text/plain": [
       "[Synset('car.n.01')]"
      ]
     },
     "execution_count": 19,
     "metadata": {},
     "output_type": "execute_result"
    }
   ],
   "source": [
    "# wordnet entries\n",
    "wordnet.synsets('motorcar')"
   ]
  },
  {
   "cell_type": "code",
   "execution_count": 22,
   "metadata": {},
   "outputs": [
    {
     "data": {
      "text/plain": [
       "['car', 'auto', 'automobile', 'machine', 'motorcar']"
      ]
     },
     "execution_count": 22,
     "metadata": {},
     "output_type": "execute_result"
    }
   ],
   "source": [
    "wordnet.synset('car.n.01').lemma_names()  #lemma is root [example: ate -> eat whereas ate is stem]"
   ]
  },
  {
   "cell_type": "code",
   "execution_count": null,
   "metadata": {},
   "outputs": [],
   "source": [
    "wordnet.synsets('')"
   ]
  },
  {
   "cell_type": "code",
   "execution_count": 30,
   "metadata": {},
   "outputs": [],
   "source": [
    "texts=[\"Jordan in 2011 ,Jordan worked as a child model for several companies and brands, including Modell's sporting goods and Toys 'R' Us, before deciding to embark on a career as an actor.\"\n",
    ",\"He launched his career as a professional actor in 1999, when he appeared briefly in single episodes of the television series Cosby and The Sopranos.\"\n",
    ",\"His first principal film role followed in 2001 when he was featured in Hardball, which starred Keanu Reeves.\" \n",
    ",\"In 2002, he gained more attention by playing the small but pivotal role of Wallace in the first season of HBO's The Wire.\" \n",
    ",\"In March 2003, he joined the cast of All My Children, replacing Chadwick Boseman, playing Reggie Montgomery, a troubled teenager.\"]"
   ]
  },
  {
   "cell_type": "code",
   "execution_count": 31,
   "metadata": {},
   "outputs": [
    {
     "name": "stdout",
     "output_type": "stream",
     "text": [
      "[('Jordan', 'NNP'), ('in', 'IN'), ('2011', 'CD'), (',', ','), ('Jordan', 'NNP'), ('worked', 'VBD'), ('as', 'IN'), ('a', 'DT'), ('child', 'NN'), ('model', 'NN'), ('for', 'IN'), ('several', 'JJ'), ('companies', 'NNS'), ('and', 'CC'), ('brands', 'NNS'), (',', ','), ('including', 'VBG'), ('Modell', 'NNP'), (\"'s\", 'POS'), ('sporting', 'VBG'), ('goods', 'NNS'), ('and', 'CC'), ('Toys', 'NNP'), (\"'\", 'POS'), ('R', 'NNP'), (\"'\", 'POS'), ('Us', 'NNP'), (',', ','), ('before', 'IN'), ('deciding', 'VBG'), ('to', 'TO'), ('embark', 'VB'), ('on', 'IN'), ('a', 'DT'), ('career', 'NN'), ('as', 'IN'), ('an', 'DT'), ('actor', 'NN'), ('.', '.')]\n",
      "[('He', 'PRP'), ('launched', 'VBD'), ('his', 'PRP$'), ('career', 'NN'), ('as', 'IN'), ('a', 'DT'), ('professional', 'JJ'), ('actor', 'NN'), ('in', 'IN'), ('1999', 'CD'), (',', ','), ('when', 'WRB'), ('he', 'PRP'), ('appeared', 'VBD'), ('briefly', 'NN'), ('in', 'IN'), ('single', 'JJ'), ('episodes', 'NNS'), ('of', 'IN'), ('the', 'DT'), ('television', 'NN'), ('series', 'NN'), ('Cosby', 'NNP'), ('and', 'CC'), ('The', 'DT'), ('Sopranos', 'NNP'), ('.', '.')]\n",
      "[('His', 'PRP$'), ('first', 'JJ'), ('principal', 'JJ'), ('film', 'NN'), ('role', 'NN'), ('followed', 'VBD'), ('in', 'IN'), ('2001', 'CD'), ('when', 'WRB'), ('he', 'PRP'), ('was', 'VBD'), ('featured', 'VBN'), ('in', 'IN'), ('Hardball', 'NNP'), (',', ','), ('which', 'WDT'), ('starred', 'VBD'), ('Keanu', 'NNP'), ('Reeves', 'NNP'), ('.', '.')]\n",
      "[('In', 'IN'), ('2002', 'CD'), (',', ','), ('he', 'PRP'), ('gained', 'VBD'), ('more', 'JJR'), ('attention', 'NN'), ('by', 'IN'), ('playing', 'VBG'), ('the', 'DT'), ('small', 'JJ'), ('but', 'CC'), ('pivotal', 'JJ'), ('role', 'NN'), ('of', 'IN'), ('Wallace', 'NNP'), ('in', 'IN'), ('the', 'DT'), ('first', 'JJ'), ('season', 'NN'), ('of', 'IN'), ('HBO', 'NNP'), (\"'s\", 'POS'), ('The', 'DT'), ('Wire', 'NNP'), ('.', '.')]\n",
      "[('In', 'IN'), ('March', 'NNP'), ('2003', 'CD'), (',', ','), ('he', 'PRP'), ('joined', 'VBD'), ('the', 'DT'), ('cast', 'NN'), ('of', 'IN'), ('All', 'NNP'), ('My', 'NNP'), ('Children', 'NNP'), (',', ','), ('replacing', 'VBG'), ('Chadwick', 'NNP'), ('Boseman', 'NNP'), (',', ','), ('playing', 'VBG'), ('Reggie', 'NNP'), ('Montgomery', 'NNP'), (',', ','), ('a', 'DT'), ('troubled', 'JJ'), ('teenager', 'NN'), ('.', '.')]\n"
     ]
    }
   ],
   "source": [
    "for text in texts:\n",
    "    sentences=nltk.sent_tokenize(text)\n",
    "    for sentence in sentences:\n",
    "        words=nltk.word_tokenize(sentence)\n",
    "        tagged_words=nltk.pos_tag(words)\n",
    "        print(tagged_words)"
   ]
  },
  {
   "cell_type": "code",
   "execution_count": 37,
   "metadata": {},
   "outputs": [
    {
     "data": {
      "text/plain": [
       "['A',\n",
       " 'look',\n",
       " 'inside',\n",
       " 'the',\n",
       " '#EYBL',\n",
       " 'like',\n",
       " \"you've\",\n",
       " 'never',\n",
       " 'seen',\n",
       " 'it',\n",
       " 'before',\n",
       " '.',\n",
       " 'Introducing',\n",
       " '#EliteYouth',\n",
       " ',',\n",
       " 'coming',\n",
       " 'Jan',\n",
       " '3',\n",
       " 'to',\n",
       " '@FS1',\n",
       " '.',\n",
       " ':P',\n",
       " ':D',\n",
       " ':)']"
      ]
     },
     "execution_count": 37,
     "metadata": {},
     "output_type": "execute_result"
    }
   ],
   "source": [
    "# Tweet Tokeniser\n",
    "\n",
    "from nltk.tokenize import TweetTokenizer\n",
    "text= \"A look inside the #EYBL like you've never seen it before. Introducing #EliteYouth, coming Jan 3 to @FS1. :P :D :)\"\n",
    "twtkn=TweetTokenizer()\n",
    "twtkn.tokenize(text) # twitter tokeniser"
   ]
  },
  {
   "cell_type": "code",
   "execution_count": 38,
   "metadata": {},
   "outputs": [
    {
     "data": {
      "text/plain": [
       "['A',\n",
       " 'look',\n",
       " 'inside',\n",
       " 'the',\n",
       " '#',\n",
       " 'EYBL',\n",
       " 'like',\n",
       " 'you',\n",
       " \"'ve\",\n",
       " 'never',\n",
       " 'seen',\n",
       " 'it',\n",
       " 'before',\n",
       " '.',\n",
       " 'Introducing',\n",
       " '#',\n",
       " 'EliteYouth',\n",
       " ',',\n",
       " 'coming',\n",
       " 'Jan',\n",
       " '3',\n",
       " 'to',\n",
       " '@',\n",
       " 'FS1',\n",
       " '.',\n",
       " ':',\n",
       " 'P',\n",
       " ':',\n",
       " 'D',\n",
       " ':',\n",
       " ')']"
      ]
     },
     "execution_count": 38,
     "metadata": {},
     "output_type": "execute_result"
    }
   ],
   "source": [
    "nltk.word_tokenize(text) #usual word tokenizer"
   ]
  },
  {
   "cell_type": "code",
   "execution_count": null,
   "metadata": {},
   "outputs": [],
   "source": []
  }
 ],
 "metadata": {
  "kernelspec": {
   "display_name": "Python 3",
   "language": "python",
   "name": "python3"
  },
  "language_info": {
   "codemirror_mode": {
    "name": "ipython",
    "version": 3
   },
   "file_extension": ".py",
   "mimetype": "text/x-python",
   "name": "python",
   "nbconvert_exporter": "python",
   "pygments_lexer": "ipython3",
   "version": "3.7.4"
  }
 },
 "nbformat": 4,
 "nbformat_minor": 2
}
