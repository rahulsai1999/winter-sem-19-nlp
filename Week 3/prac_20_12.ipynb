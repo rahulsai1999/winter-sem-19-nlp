{
 "cells": [
  {
   "cell_type": "code",
   "execution_count": 2,
   "metadata": {},
   "outputs": [],
   "source": [
    "from nltk.corpus import inaugural"
   ]
  },
  {
   "cell_type": "code",
   "execution_count": 3,
   "metadata": {},
   "outputs": [],
   "source": [
    "roosevelt=inaugural.words(fileids='1933-Roosevelt.txt')"
   ]
  },
  {
   "cell_type": "code",
   "execution_count": 4,
   "metadata": {},
   "outputs": [
    {
     "data": {
      "text/plain": [
       "['I', 'am', 'certain', 'that', 'my', 'fellow', ...]"
      ]
     },
     "execution_count": 4,
     "metadata": {},
     "output_type": "execute_result"
    }
   ],
   "source": [
    "roosevelt"
   ]
  },
  {
   "cell_type": "code",
   "execution_count": 6,
   "metadata": {},
   "outputs": [],
   "source": [
    "from nltk.corpus import webtext"
   ]
  },
  {
   "cell_type": "code",
   "execution_count": 7,
   "metadata": {},
   "outputs": [
    {
     "data": {
      "text/plain": [
       "['firefox.txt',\n",
       " 'grail.txt',\n",
       " 'overheard.txt',\n",
       " 'pirates.txt',\n",
       " 'singles.txt',\n",
       " 'wine.txt']"
      ]
     },
     "execution_count": 7,
     "metadata": {},
     "output_type": "execute_result"
    }
   ],
   "source": [
    "webtext.fileids()"
   ]
  },
  {
   "cell_type": "code",
   "execution_count": 9,
   "metadata": {},
   "outputs": [],
   "source": [
    "pirates=webtext.words(fileids='pirates.txt')"
   ]
  },
  {
   "cell_type": "code",
   "execution_count": 21,
   "metadata": {},
   "outputs": [
    {
     "name": "stdout",
     "output_type": "stream",
     "text": [
      "Cookie Manager : \" Don ' t allow sites that set removed cookies to set future cookies \" should stay\n",
      "SCENE 1 : [ wind ] [ clop clop clop ] KING ARTHUR : Whoa there ! [ clop clop\n",
      "White guy : So , do you have any plans for this evening ? Asian girl : Yeah , being\n",
      "PIRATES OF THE CARRIBEAN : DEAD MAN ' S CHEST , by Ted Elliott & Terry Rossio [ view looking\n",
      "25 SEXY MALE , seeks attrac older single lady , for discreet encounters . 35YO Security Guard , seeking lady\n",
      "Lovely delicate , fragrant Rhone wine . Polished leather and strawberries . Perhaps a bit dilute , but good for\n"
     ]
    }
   ],
   "source": [
    "# print first 20 words from each webtext\n",
    "for i in webtext.fileids():\n",
    "    x=webtext.words(fileids=i)\n",
    "    print(' '.join(x[:20])) "
   ]
  },
  {
   "cell_type": "code",
   "execution_count": 23,
   "metadata": {},
   "outputs": [],
   "source": [
    "f=open('tweets1.txt','r')"
   ]
  },
  {
   "cell_type": "code",
   "execution_count": 24,
   "metadata": {},
   "outputs": [],
   "source": [
    "text=f.read()"
   ]
  },
  {
   "cell_type": "code",
   "execution_count": 27,
   "metadata": {},
   "outputs": [],
   "source": [
    "import nltk"
   ]
  },
  {
   "cell_type": "code",
   "execution_count": 35,
   "metadata": {},
   "outputs": [
    {
     "name": "stdout",
     "output_type": "stream",
     "text": [
      "Displaying 17 of 17 matches:\n",
      "n The Signal premiere. Lotsa buyers. Good luck gang listening to the pocast ne\n",
      "so going to enjoy this shower. Feels good to have worked on a trail three time\n",
      "ose not my friend. it was not a very good day so I have a lot to do tomorrow..\n",
      "Oh why cheesecake why? You looked so good evil cake. Now metamucil. Reading: \"\n",
      "utiful day so Im thinking to spend a good part of it outdoors.first stop at St\n",
      "g and ignoring my reaction to a very good friend getting fired. it's like a bi\n",
      "d HDH - url wrist sprain= damn pain. good thing it's not on my left hand. Bein\n",
      " I bet I can throw farther than her. Good luck with that dude. Sure it will al\n",
      " Choppers. first day of eid .. feels good Looking to buy a game called Shut th\n",
      "g. back from the ASLA 6 Congress. :) Good job ASLA CORE! I'm gonna need to ste\n",
      "tching the CNBC video of David Lear. Good job Sean! and now... off to Belize! \n",
      " Mom's cousin's car. this would be a good place for wifi! a hot technology to \n",
      "e Long Tail: Are dead-tree magazines good or bad for the climate? url the mida\n",
      "ortened! url www.last.fm is a really good idea Worst drive I've ever had. Sanj\n",
      " my tivoed shows I missed last week. Good day from fratres this 01.22.08! Ther\n",
      "ill have cause for regret. 01..24.08 Good Day!!! See Pope Benedict's plea for \n",
      ".. , @cleshen, everything went well. Good people! Probably have to go back to \n"
     ]
    }
   ],
   "source": [
    "text1=text.split()\n",
    "text2=nltk.Text(text1)\n",
    "text2.concordance(\"good\")"
   ]
  },
  {
   "cell_type": "code",
   "execution_count": 36,
   "metadata": {},
   "outputs": [],
   "source": [
    "from urllib import request"
   ]
  },
  {
   "cell_type": "code",
   "execution_count": 47,
   "metadata": {},
   "outputs": [],
   "source": [
    "url=\"http://www.gutenberg.org/files/2554/2554-0.txt\"\n",
    "response=request.urlopen(url)"
   ]
  },
  {
   "cell_type": "code",
   "execution_count": 48,
   "metadata": {},
   "outputs": [],
   "source": [
    "raw=response.read().decode('utf8')"
   ]
  },
  {
   "cell_type": "code",
   "execution_count": 51,
   "metadata": {},
   "outputs": [
    {
     "data": {
      "text/plain": [
       "str"
      ]
     },
     "execution_count": 51,
     "metadata": {},
     "output_type": "execute_result"
    }
   ],
   "source": [
    "type(raw)"
   ]
  },
  {
   "cell_type": "code",
   "execution_count": 53,
   "metadata": {},
   "outputs": [
    {
     "data": {
      "text/plain": [
       "1176967"
      ]
     },
     "execution_count": 53,
     "metadata": {},
     "output_type": "execute_result"
    }
   ],
   "source": [
    "len(raw)"
   ]
  },
  {
   "cell_type": "code",
   "execution_count": 55,
   "metadata": {},
   "outputs": [],
   "source": [
    "from nltk.tokenize import word_tokenize\n",
    "tokens=word_tokenize(raw)"
   ]
  },
  {
   "cell_type": "code",
   "execution_count": 58,
   "metadata": {},
   "outputs": [
    {
     "data": {
      "text/plain": [
       "['\\ufeffThe',\n",
       " 'Project',\n",
       " 'Gutenberg',\n",
       " 'EBook',\n",
       " 'of',\n",
       " 'Crime',\n",
       " 'and',\n",
       " 'Punishment',\n",
       " ',',\n",
       " 'by']"
      ]
     },
     "execution_count": 58,
     "metadata": {},
     "output_type": "execute_result"
    }
   ],
   "source": [
    "tokens[:10]"
   ]
  }
 ],
 "metadata": {
  "kernelspec": {
   "display_name": "Python 3",
   "language": "python",
   "name": "python3"
  },
  "language_info": {
   "codemirror_mode": {
    "name": "ipython",
    "version": 3
   },
   "file_extension": ".py",
   "mimetype": "text/x-python",
   "name": "python",
   "nbconvert_exporter": "python",
   "pygments_lexer": "ipython3",
   "version": "3.7.4"
  }
 },
 "nbformat": 4,
 "nbformat_minor": 2
}
